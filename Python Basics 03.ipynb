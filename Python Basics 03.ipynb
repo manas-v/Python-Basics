{
 "cells": [
  {
   "cell_type": "markdown",
   "metadata": {},
   "source": [
    "### 3. Write python programs"
   ]
  },
  {
   "cell_type": "markdown",
   "metadata": {},
   "source": [
    "#### a) To print all prime number in a series (between the lower and upper limits)"
   ]
  },
  {
   "cell_type": "code",
   "execution_count": 2,
   "metadata": {},
   "outputs": [
    {
     "name": "stdout",
     "output_type": "stream",
     "text": [
      "Minimum range: 5\n",
      "Maximum range: 20\n",
      "Prime number in the given range is\n",
      "5\n",
      "7\n",
      "11\n",
      "13\n",
      "17\n",
      "19\n"
     ]
    }
   ],
   "source": [
    "l = int(input(\"Minimum range: \"))  \n",
    "u = int(input(\"Maximum range: \")) \n",
    "print(\"Prime number in the given range is\")\n",
    "for n in range(l,u + 1):  \n",
    "    if n > 1:  \n",
    "        for i in range(2,n):  \n",
    "            if (n % i) == 0:  \n",
    "                break  \n",
    "        else:  \n",
    "            print(n)"
   ]
  },
  {
   "cell_type": "markdown",
   "metadata": {},
   "source": [
    "#### b) To find largest among three numbers, input by user."
   ]
  },
  {
   "cell_type": "code",
   "execution_count": 2,
   "metadata": {},
   "outputs": [
    {
     "name": "stdout",
     "output_type": "stream",
     "text": [
      "First number: 16\n",
      "Second number: 5\n",
      "Third number: 10\n",
      "The largest number is 16.0\n"
     ]
    }
   ],
   "source": [
    "num1 = float(input(\"First number: \"))\n",
    "num2 = float(input(\"Second number: \"))\n",
    "num3 = float(input(\"Third number: \"))\n",
    "if (num1 > num2) and (num1 > num3):\n",
    "    largest = num1\n",
    "elif (num2 > num1) and (num2 > num3):\n",
    "    largest = num2\n",
    "else:\n",
    "    largest = num3\n",
    "print(\"The largest number is\", largest)"
   ]
  },
  {
   "cell_type": "markdown",
   "metadata": {},
   "source": [
    "#### c) To find HCF for two numbers, input by user"
   ]
  },
  {
   "cell_type": "code",
   "execution_count": 3,
   "metadata": {},
   "outputs": [
    {
     "name": "stdout",
     "output_type": "stream",
     "text": [
      "First number: 20\n",
      "Second number: 12\n",
      "HCF of two numbers is 4.0\n"
     ]
    }
   ],
   "source": [
    "num1 = float(input(\"First number: \"))\n",
    "num2 = float(input(\"Second number: \"))\n",
    "def hcf(a,b):\n",
    "    while(a!=b):\n",
    "        if(a>b):\n",
    "            a=a-b\n",
    "        else:\n",
    "            b=b-a\n",
    "    return a\n",
    "print(\"HCF of two numbers is\", hcf(num1,num2))"
   ]
  }
 ],
 "metadata": {
  "kernelspec": {
   "display_name": "Python 3",
   "language": "python",
   "name": "python3"
  },
  "language_info": {
   "codemirror_mode": {
    "name": "ipython",
    "version": 3
   },
   "file_extension": ".py",
   "mimetype": "text/x-python",
   "name": "python",
   "nbconvert_exporter": "python",
   "pygments_lexer": "ipython3",
   "version": "3.8.3"
  }
 },
 "nbformat": 4,
 "nbformat_minor": 4
}
