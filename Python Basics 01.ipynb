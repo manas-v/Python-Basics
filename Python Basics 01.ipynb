{
 "cells": [
  {
   "cell_type": "markdown",
   "metadata": {},
   "source": [
    "### 1. Write and run a program"
   ]
  },
  {
   "cell_type": "markdown",
   "metadata": {},
   "source": [
    "#### a) To elaborate variables and their data types such as int, float, boolean, string, list,set, dictionary and tuples;"
   ]
  },
  {
   "cell_type": "code",
   "execution_count": 1,
   "metadata": {},
   "outputs": [
    {
     "name": "stdout",
     "output_type": "stream",
     "text": [
      "The value of a is 20\n",
      "The type of a is <class 'int'>\n",
      "\n",
      "The value of b is 20.0\n",
      "The type of b is <class 'float'>\n",
      "\n",
      "The value of c is Print a String\n",
      "The type of c is <class 'str'>\n",
      "\n",
      "The value of d is [20, 20.0, 'Print a String', 'Trial']\n",
      "The type of d is <class 'list'>\n",
      "\n",
      "The value of e is {2, 4, 6, 8, 10, 12, 14, 16}\n",
      "The type of e is <class 'set'>\n",
      "\n",
      "The value of f is (20, 20.0, 'Print a String', 'Trial')\n",
      "The type of f is <class 'tuple'>\n",
      "\n",
      "The value of g is {'int': 20, 'Print': 'String'}\n",
      "The type of g is <class 'dict'>\n"
     ]
    }
   ],
   "source": [
    "a=20\n",
    "b=20.0\n",
    "c=\"Print a String\"\n",
    "e=[20,20.0,\"Print a String\",\"Trial\"]\n",
    "f={2,4,6,8,10,12,14,16}\n",
    "g=(20,20.0,\"Print a String\",\"Trial\")\n",
    "h={\"int\":20,\"Print\":\"String\"}\n",
    "\n",
    "print(\"The value of a is\",a)\n",
    "print(\"The type of a is\",type(a))\n",
    "print(\"\\nThe value of b is\",b)\n",
    "print(\"The type of b is\",type(b))\n",
    "print(\"\\nThe value of c is\",c)\n",
    "print(\"The type of c is\",type(c))\n",
    "print(\"\\nThe value of d is\",e)\n",
    "print(\"The type of d is\",type(e))\n",
    "print(\"\\nThe value of e is\",f)\n",
    "print(\"The type of e is\",type(f))\n",
    "print(\"\\nThe value of f is\",g)\n",
    "print(\"The type of f is\",type(g))\n",
    "print(\"\\nThe value of g is\",h)\n",
    "print(\"The type of g is\",type(h))"
   ]
  },
  {
   "cell_type": "markdown",
   "metadata": {},
   "source": [
    "#### a) Exchange of two values(int,float,string)"
   ]
  },
  {
   "cell_type": "code",
   "execution_count": 2,
   "metadata": {},
   "outputs": [
    {
     "name": "stdout",
     "output_type": "stream",
     "text": [
      "Enter the first number: 21\n",
      "Enter the second number: 12\n",
      "\n",
      "Before swapping a is 21 and b is 12\n",
      "After swapping a is 12 and b is 21\n"
     ]
    }
   ],
   "source": [
    "a=int(input(\"Enter the first number: \"))\n",
    "b=int(input(\"Enter the second number: \"))\n",
    "print(\"\\nBefore swapping a is\",a,\"and b is\",b)\n",
    "a,b=b,a\n",
    "print(\"After swapping a is\",a,\"and b is\",b)"
   ]
  },
  {
   "cell_type": "code",
   "execution_count": 3,
   "metadata": {},
   "outputs": [
    {
     "name": "stdout",
     "output_type": "stream",
     "text": [
      "Enter the first number: 20.02\n",
      "Enter the second number: 2.2\n",
      "Before swapping, the values of a and b are 20.02 and 2.2 respectively\n",
      "After swapping, the values of a and b are 2.2 and 20.02 respectively\n"
     ]
    }
   ],
   "source": [
    "a=float(input(\"Enter the first number: \"))\n",
    "b=float(input(\"Enter the second number: \"))\n",
    "print(\"Before swapping, the values of a and b are {0} and {1} respectively\".format(a,b))\n",
    "a,b=b,a\n",
    "print(\"After swapping, the values of a and b are {0} and {1} respectively\".format(a,b))"
   ]
  },
  {
   "cell_type": "code",
   "execution_count": 4,
   "metadata": {},
   "outputs": [
    {
     "name": "stdout",
     "output_type": "stream",
     "text": [
      "Enter the first string: Rhyme\n",
      "Enter the second string: Chyme\n",
      "Before swapping, the values of a and b are Rhyme and Chyme respectively\n",
      "After swapping, the values of a and b are Chyme and Rhyme respectively\n"
     ]
    }
   ],
   "source": [
    "a=input(\"Enter the first string: \")\n",
    "b=input(\"Enter the second string: \")\n",
    "print(\"Before swapping, the values of a and b are {0} and {1} respectively\".format(a,b))\n",
    "a,b=b,a\n",
    "print(\"After swapping, the values of a and b are {0} and {1} respectively\".format(a,b))"
   ]
  },
  {
   "cell_type": "markdown",
   "metadata": {},
   "source": [
    "#### b) To elaborate mathematical operations such as addition, subtraction, multiplication,division, modulo, and power"
   ]
  },
  {
   "cell_type": "code",
   "execution_count": 5,
   "metadata": {},
   "outputs": [
    {
     "name": "stdout",
     "output_type": "stream",
     "text": [
      "Enter the first number a: 12\n",
      "Enter the second number b: 5\n",
      "Sum of 12 and 5 is 17\n",
      "Difference of 12 and 5 is 7\n",
      "Product of 12 and 5 is 60\n",
      "12 divided by 5 is 2.4\n",
      "12 remainder 5 is 2\n",
      "12 power 5 is 248832\n",
      "12 floor division 5 is 2\n"
     ]
    }
   ],
   "source": [
    "a=int(input(\"Enter the first number a: \"))\n",
    "b=int(input(\"Enter the second number b: \"))\n",
    "sum=a+b\n",
    "diff=a-b\n",
    "prod=a*b\n",
    "div=a/b\n",
    "rem=a%b\n",
    "pow=a**b\n",
    "flr=a//b\n",
    "print(\"Sum of {0} and {1} is {2}\".format(a,b,sum))\n",
    "print(\"Difference of {0} and {1} is {2}\".format(a,b,diff))\n",
    "print(\"Product of {0} and {1} is {2}\".format(a,b,prod))\n",
    "print(\"{0} divided by {1} is {2}\".format(a,b,div))\n",
    "print(\"{0} remainder {1} is {2}\".format(a,b,rem))\n",
    "print(\"{0} power {1} is {2}\".format(a,b,pow))\n",
    "print(\"{0} floor division {1} is {2}\".format(a,b,flr))"
   ]
  },
  {
   "cell_type": "markdown",
   "metadata": {},
   "source": [
    "#### b) Explore the operator precedence"
   ]
  },
  {
   "cell_type": "code",
   "execution_count": 6,
   "metadata": {},
   "outputs": [
    {
     "name": "stdout",
     "output_type": "stream",
     "text": [
      "Value of e = (a + b) * c / d is  132.0\n",
      "Value of e = ((a + b) * c) / d is  132.0\n",
      "Value of (a + b) * (c / d) is  132.0\n",
      "Value of e = a + (b * c) / d is  107.0\n"
     ]
    }
   ],
   "source": [
    "a=5\n",
    "b=17\n",
    "c=12\n",
    "d=2\n",
    "\n",
    "e = (a + b) * c / d\n",
    "print(\"Value of e = (a + b) * c / d is \",e)\n",
    "\n",
    "e = ((a + b) * c) / d\n",
    "print(\"Value of e = ((a + b) * c) / d is \",e)\n",
    "\n",
    "e = (a + b) * (c / d)\n",
    "print(\"Value of (a + b) * (c / d) is \",e)\n",
    "\n",
    "e = a + (b * c) / d\n",
    "print(\"Value of e = a + (b * c) / d is \",e)"
   ]
  }
 ],
 "metadata": {
  "kernelspec": {
   "display_name": "Python 3",
   "language": "python",
   "name": "python3"
  },
  "language_info": {
   "codemirror_mode": {
    "name": "ipython",
    "version": 3
   },
   "file_extension": ".py",
   "mimetype": "text/x-python",
   "name": "python",
   "nbconvert_exporter": "python",
   "pygments_lexer": "ipython3",
   "version": "3.8.3"
  }
 },
 "nbformat": 4,
 "nbformat_minor": 2
}
