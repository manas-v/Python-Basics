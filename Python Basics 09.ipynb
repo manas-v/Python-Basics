{
 "cells": [
  {
   "cell_type": "markdown",
   "metadata": {},
   "source": [
    "### 9. Write Python program"
   ]
  },
  {
   "cell_type": "markdown",
   "metadata": {},
   "source": [
    "#### a) To elaborate file operations such as, opening a file, reading from it, writing into it, closing it, and various file methods."
   ]
  },
  {
   "cell_type": "code",
   "execution_count": 1,
   "metadata": {},
   "outputs": [
    {
     "name": "stdout",
     "output_type": "stream",
     "text": [
      "Experiment 9\n"
     ]
    }
   ],
   "source": [
    "f1=open('f1.txt','r')\n",
    "print(f1.read())\n",
    "f1.close()"
   ]
  },
  {
   "cell_type": "code",
   "execution_count": 2,
   "metadata": {},
   "outputs": [],
   "source": [
    "f1=open('f1.txt','w')\n",
    "f1.write('Experiment 9 sample write demo')\n",
    "f1.close()"
   ]
  },
  {
   "cell_type": "code",
   "execution_count": 3,
   "metadata": {},
   "outputs": [
    {
     "name": "stdout",
     "output_type": "stream",
     "text": [
      "Experiment 9 sample write demo\n"
     ]
    }
   ],
   "source": [
    "f1=open('f1.txt','r')\n",
    "print(f1.read())\n",
    "f1.close()"
   ]
  },
  {
   "cell_type": "code",
   "execution_count": 4,
   "metadata": {},
   "outputs": [],
   "source": [
    "f1=open('f1.txt','a')\n",
    "f1.write(\"\\nExperiment 9 sample append demo\")\n",
    "f1.close()"
   ]
  },
  {
   "cell_type": "code",
   "execution_count": 5,
   "metadata": {},
   "outputs": [
    {
     "name": "stdout",
     "output_type": "stream",
     "text": [
      "Experiment 9 sample write demo\n",
      "\n",
      "Experiment 9 sample append demo\n"
     ]
    }
   ],
   "source": [
    "f1=open('f1.txt','r')\n",
    "print(f1.readline())\n",
    "print(f1.readline())\n",
    "f1.close()"
   ]
  },
  {
   "cell_type": "code",
   "execution_count": 6,
   "metadata": {},
   "outputs": [
    {
     "name": "stdout",
     "output_type": "stream",
     "text": [
      "Experiment 9 sample write demo\n",
      "Experiment 9 sample append demo\n",
      "\n"
     ]
    }
   ],
   "source": [
    "f1=open('f1.txt','r+')\n",
    "print(f1.read())\n",
    "f1.write('\\nExperiment 9 sample r+ and w+ demo')\n",
    "print(f1.read())\n",
    "f1.close()"
   ]
  },
  {
   "cell_type": "code",
   "execution_count": 7,
   "metadata": {},
   "outputs": [
    {
     "name": "stdout",
     "output_type": "stream",
     "text": [
      "before reading 0\n",
      "after reading 99\n"
     ]
    }
   ],
   "source": [
    "f1=open('f1.txt','r')\n",
    "print('before reading',f1.tell())\n",
    "f1.read()\n",
    "print('after reading',f1.tell())\n",
    "f1.close()"
   ]
  },
  {
   "cell_type": "code",
   "execution_count": 8,
   "metadata": {},
   "outputs": [
    {
     "name": "stdout",
     "output_type": "stream",
     "text": [
      "b'Experiment 9 sample write demo\\r\\nExperiment 9 sample append demo\\r\\nExperiment 9 sample r+ and w+ demo'\n",
      "99\n",
      "here seek will put the pointer at inital position that is: 0\n",
      "b'Experiment 9 sample write demo\\r\\n'\n"
     ]
    }
   ],
   "source": [
    "f1=open('f1.txt','rb')\n",
    "print(f1.read())\n",
    "print(f1.tell())\n",
    "print('here seek will put the pointer at inital position that is:',f1.seek(0))\n",
    "print(f1.readline())\n",
    "f1.close()"
   ]
  },
  {
   "cell_type": "markdown",
   "metadata": {},
   "source": [
    "#### b) To elaborate file and directory management such as creating a directory, renaming it, listing all directories and working with them."
   ]
  },
  {
   "cell_type": "code",
   "execution_count": 9,
   "metadata": {},
   "outputs": [
    {
     "data": {
      "text/plain": [
       "'C:\\\\Users\\\\Tunasvi\\\\Downloads\\\\python basics'"
      ]
     },
     "execution_count": 9,
     "metadata": {},
     "output_type": "execute_result"
    }
   ],
   "source": [
    "import os\n",
    "os.getcwd()"
   ]
  },
  {
   "cell_type": "code",
   "execution_count": 10,
   "metadata": {},
   "outputs": [],
   "source": [
    "os.mkdir('basics-assign')"
   ]
  },
  {
   "cell_type": "code",
   "execution_count": 11,
   "metadata": {},
   "outputs": [
    {
     "name": "stdout",
     "output_type": "stream",
     "text": [
      "['.ipynb_checkpoints', 'basics-assign', 'desktop.ini', 'f1.txt', 'Python Basics 01.ipynb', 'Python Basics 02.ipynb', 'Python Basics 03.ipynb', 'Python Basics 04 Part 2.ipynb', 'Python Basics 04.ipynb', 'Python Basics 05.ipynb', 'Python Basics 06.ipynb', 'Python Basics 07 & 08.ipynb', 'Python Basics 09.ipynb', 'Python Basics 10.ipynb', 'Python Basics 12.ipynb']\n"
     ]
    }
   ],
   "source": [
    "print(os.listdir())"
   ]
  },
  {
   "cell_type": "code",
   "execution_count": 12,
   "metadata": {},
   "outputs": [
    {
     "name": "stdout",
     "output_type": "stream",
     "text": [
      "C:\\Users\\Tunasvi\\Downloads\\python basics\\basics-assign\n",
      "C:\\Users\\Tunasvi\\Downloads\\python basics\n"
     ]
    }
   ],
   "source": [
    "os.chdir('C:\\\\Users\\\\Tunasvi\\\\Downloads\\\\python basics\\\\basics-assign')\n",
    "print(os.getcwd())\n",
    "os.chdir('C:\\\\Users\\\\Tunasvi\\\\Downloads\\\\python basics')\n",
    "print(os.getcwd())"
   ]
  },
  {
   "cell_type": "code",
   "execution_count": 13,
   "metadata": {},
   "outputs": [],
   "source": [
    "os.rename(r'C:\\Users\\Tunasvi\\Downloads\\python basics\\basics-assign',r'C:\\Users\\Tunasvi\\Downloads\\python basics\\lab9')"
   ]
  },
  {
   "cell_type": "code",
   "execution_count": 14,
   "metadata": {},
   "outputs": [
    {
     "name": "stdout",
     "output_type": "stream",
     "text": [
      "['.ipynb_checkpoints', 'desktop.ini', 'f1.txt', 'lab9', 'Python Basics 01.ipynb', 'Python Basics 02.ipynb', 'Python Basics 03.ipynb', 'Python Basics 04 Part 2.ipynb', 'Python Basics 04.ipynb', 'Python Basics 05.ipynb', 'Python Basics 06.ipynb', 'Python Basics 07 & 08.ipynb', 'Python Basics 09.ipynb', 'Python Basics 10.ipynb', 'Python Basics 12.ipynb']\n"
     ]
    }
   ],
   "source": [
    "print(os.listdir())"
   ]
  },
  {
   "cell_type": "code",
   "execution_count": 15,
   "metadata": {},
   "outputs": [
    {
     "name": "stdout",
     "output_type": "stream",
     "text": [
      "['.ipynb_checkpoints', 'desktop.ini', 'f1.txt', 'Python Basics 01.ipynb', 'Python Basics 02.ipynb', 'Python Basics 03.ipynb', 'Python Basics 04 Part 2.ipynb', 'Python Basics 04.ipynb', 'Python Basics 05.ipynb', 'Python Basics 06.ipynb', 'Python Basics 07 & 08.ipynb', 'Python Basics 09.ipynb', 'Python Basics 10.ipynb', 'Python Basics 12.ipynb']\n"
     ]
    }
   ],
   "source": [
    "os.rmdir('lab9')\n",
    "print(os.listdir())"
   ]
  },
  {
   "cell_type": "markdown",
   "metadata": {},
   "source": [
    "#### c) To elaborate exception handing with python built in commands such as try, except, and finally."
   ]
  },
  {
   "cell_type": "code",
   "execution_count": 16,
   "metadata": {},
   "outputs": [
    {
     "name": "stdout",
     "output_type": "stream",
     "text": [
      "Print variable not defined\n"
     ]
    }
   ],
   "source": [
    "try:\n",
    "    print(x)\n",
    "except NameError:\n",
    "    print(\"Print variable not defined\")\n",
    "except:\n",
    "    print(\"Error\")"
   ]
  },
  {
   "cell_type": "code",
   "execution_count": 17,
   "metadata": {},
   "outputs": [
    {
     "name": "stdout",
     "output_type": "stream",
     "text": [
      "Error\n"
     ]
    }
   ],
   "source": [
    "try:\n",
    "    print(1/0)\n",
    "except NameError:\n",
    "    print(\"Print variable not defined\")\n",
    "except:\n",
    "    print(\"Error\")"
   ]
  },
  {
   "cell_type": "code",
   "execution_count": 18,
   "metadata": {},
   "outputs": [
    {
     "name": "stdout",
     "output_type": "stream",
     "text": [
      "You have an error\n"
     ]
    }
   ],
   "source": [
    "try:\n",
    "    print(x)\n",
    "except:\n",
    "    print(\"You have an error\")\n",
    "else:\n",
    "    print(\"You are in the else block\")"
   ]
  },
  {
   "cell_type": "code",
   "execution_count": 19,
   "metadata": {},
   "outputs": [
    {
     "name": "stdout",
     "output_type": "stream",
     "text": [
      "Exception handling\n",
      "You are in the else block\n"
     ]
    }
   ],
   "source": [
    "try:\n",
    "    print(\"Exception handling\")\n",
    "except:\n",
    "    print(\"You have an error\")\n",
    "else:\n",
    "    print(\"You are in the else block\")"
   ]
  },
  {
   "cell_type": "code",
   "execution_count": 20,
   "metadata": {},
   "outputs": [
    {
     "name": "stdout",
     "output_type": "stream",
     "text": [
      "You have an error\n",
      "You are in the finally block\n"
     ]
    }
   ],
   "source": [
    "try:\n",
    "    print(x)\n",
    "except:\n",
    "    print(\"You have an error\")\n",
    "finally:\n",
    "    print(\"You are in the finally block\")"
   ]
  }
 ],
 "metadata": {
  "kernelspec": {
   "display_name": "Python 3",
   "language": "python",
   "name": "python3"
  },
  "language_info": {
   "codemirror_mode": {
    "name": "ipython",
    "version": 3
   },
   "file_extension": ".py",
   "mimetype": "text/x-python",
   "name": "python",
   "nbconvert_exporter": "python",
   "pygments_lexer": "ipython3",
   "version": "3.8.3"
  }
 },
 "nbformat": 4,
 "nbformat_minor": 4
}
