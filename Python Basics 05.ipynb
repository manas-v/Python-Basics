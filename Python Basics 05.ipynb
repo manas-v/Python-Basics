{
 "cells": [
  {
   "cell_type": "markdown",
   "metadata": {},
   "source": [
    "### 5. Write python program to elaborate strings such as"
   ]
  },
  {
   "cell_type": "markdown",
   "metadata": {},
   "source": [
    "#### a) String declaration, traversing, slicing, concatenating, and sorting in a list."
   ]
  },
  {
   "cell_type": "code",
   "execution_count": 1,
   "metadata": {},
   "outputs": [
    {
     "name": "stdout",
     "output_type": "stream",
     "text": [
      "Hello World\n",
      "llo World\n",
      "Hello World\n",
      "Hello\n",
      "       World\n"
     ]
    }
   ],
   "source": [
    "#String declaration and transversal\n",
    "\n",
    "string = 'Hello World'\n",
    "print(string)\n",
    "\n",
    "string = \"llo World\"\n",
    "print(string)\n",
    "\n",
    "string = '''Hello World'''\n",
    "print(string)\n",
    "\n",
    "string = \"\"\"Hello\n",
    "       World\"\"\"\n",
    "print(string)"
   ]
  },
  {
   "cell_type": "code",
   "execution_count": 2,
   "metadata": {},
   "outputs": [
    {
     "name": "stdout",
     "output_type": "stream",
     "text": [
      "llo Wor\n",
      "Hello World\n",
      "Hello W\n",
      " Wo\n"
     ]
    }
   ],
   "source": [
    "#String slicing\n",
    "\n",
    "string = 'Hello World'\n",
    "print(string[2:-2])\n",
    "print(string[:])\n",
    "print(string[:-4])\n",
    "print(string[5:-3])"
   ]
  },
  {
   "cell_type": "code",
   "execution_count": 17,
   "metadata": {},
   "outputs": [
    {
     "name": "stdout",
     "output_type": "stream",
     "text": [
      "str1 + str2 =  HelloWorld\n",
      "str1*3 =  HelloHelloHello\n",
      "str2*3 =  WorldWorldWorld\n"
     ]
    }
   ],
   "source": [
    "#String concatenation\n",
    "\n",
    "str1 = 'Hello'\n",
    "str2 = 'World'\n",
    "print('str1 + str2 = ',str1+str2)\n",
    "print('str1*3 = ',str1*3)\n",
    "print('str2*3 = ',str2*3)"
   ]
  },
  {
   "cell_type": "code",
   "execution_count": 4,
   "metadata": {},
   "outputs": [
    {
     "name": "stdout",
     "output_type": "stream",
     "text": [
      "['a', 'c', 'g', 'l', 'p', 'z']\n"
     ]
    }
   ],
   "source": [
    "#String sorting\n",
    "\n",
    "s = (\"a\",\"g\",\"c\",\"p\",\"l\",\"z\")\n",
    "p = sorted(s)\n",
    "print(p)"
   ]
  },
  {
   "cell_type": "code",
   "execution_count": 5,
   "metadata": {},
   "outputs": [
    {
     "name": "stdout",
     "output_type": "stream",
     "text": [
      "['a', 'b', 'c', 'd', 'e', 'f']\n"
     ]
    }
   ],
   "source": [
    "#String sorting\n",
    "\n",
    "s = (\"def\" \"abc\")\n",
    "p = sorted(s)\n",
    "print(p)"
   ]
  },
  {
   "cell_type": "code",
   "execution_count": 6,
   "metadata": {},
   "outputs": [
    {
     "name": "stdout",
     "output_type": "stream",
     "text": [
      "['This', 'is', 'python', 'Programming']\n",
      "Programming\n",
      "This\n",
      "is\n",
      "python\n"
     ]
    }
   ],
   "source": [
    "#String split and sort, case sensitive\n",
    "\n",
    "str = 'This is python Programming'\n",
    "split = str.split()\n",
    "print(split)\n",
    "split.sort()\n",
    "for s in split:\n",
    "    print(s)"
   ]
  },
  {
   "cell_type": "code",
   "execution_count": 10,
   "metadata": {},
   "outputs": [
    {
     "name": "stdout",
     "output_type": "stream",
     "text": [
      "['this', 'is', 'python', 'programming']\n",
      "Sorted:\n",
      "is\n",
      "programming\n",
      "python\n",
      "this\n"
     ]
    }
   ],
   "source": [
    "#String split and sort, not case sensitive\n",
    "\n",
    "str = 'This is python Programming'\n",
    "str = str.casefold()\n",
    "split = str.split()\n",
    "print(split)\n",
    "split.sort()\n",
    "for s in split:\n",
    "    print(s)"
   ]
  },
  {
   "cell_type": "markdown",
   "metadata": {},
   "source": [
    "#### b) To check whether a string is palindrome or not; to remove punctuations from a string."
   ]
  },
  {
   "cell_type": "code",
   "execution_count": 9,
   "metadata": {},
   "outputs": [
    {
     "name": "stdout",
     "output_type": "stream",
     "text": [
      "Enter a string: Malyalam\n",
      "Given string is Not a Palindrome\n"
     ]
    }
   ],
   "source": [
    "#String is palindrome\n",
    "\n",
    "str = input(\"Enter a string: \")\n",
    "str = str.casefold()\n",
    "rev_str = reversed(str)\n",
    "if list(str) == list(rev_str):\n",
    "    print(\"Given string is a Palindrome\")\n",
    "else:\n",
    "    print(\"Given string is Not a Palindrome\")"
   ]
  },
  {
   "cell_type": "code",
   "execution_count": 16,
   "metadata": {},
   "outputs": [
    {
     "name": "stdout",
     "output_type": "stream",
     "text": [
      "Enter a string:he(l;lo^ w$o%r###ld\n",
      "helloworld\n"
     ]
    }
   ],
   "source": [
    "#String has punctuation\n",
    "\n",
    "punct = '''!\"#$%&'()*+, -./:;<=>?@[\\]^_`{|}~'''\n",
    "\n",
    "str = input(\"Enter a string:\")\n",
    "no_punct=''\n",
    "for s in str:\n",
    "    if s not in punct:\n",
    "        no_punct = no_punct + s\n",
    "\n",
    "print(no_punct)"
   ]
  }
 ],
 "metadata": {
  "kernelspec": {
   "display_name": "Python 3",
   "language": "python",
   "name": "python3"
  },
  "language_info": {
   "codemirror_mode": {
    "name": "ipython",
    "version": 3
   },
   "file_extension": ".py",
   "mimetype": "text/x-python",
   "name": "python",
   "nbconvert_exporter": "python",
   "pygments_lexer": "ipython3",
   "version": "3.8.3"
  }
 },
 "nbformat": 4,
 "nbformat_minor": 4
}
