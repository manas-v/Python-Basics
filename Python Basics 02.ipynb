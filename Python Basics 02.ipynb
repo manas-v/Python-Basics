{
 "cells": [
  {
   "cell_type": "markdown",
   "metadata": {},
   "source": [
    "### 2. Write programs to implement conditional operations on following:"
   ]
  },
  {
   "cell_type": "markdown",
   "metadata": {},
   "source": [
    "#### a) Python program to find the sum and average of natural numbers up to n where n is provided by user."
   ]
  },
  {
   "cell_type": "code",
   "execution_count": 1,
   "metadata": {},
   "outputs": [
    {
     "name": "stdout",
     "output_type": "stream",
     "text": [
      "Enter a number n: 5\n",
      "Sum of first 5 numbers is 15\n",
      "Average of first 5 numbers is 3.0\n"
     ]
    }
   ],
   "source": [
    "n = int(input(\"Enter a number n: \"))\n",
    "i = 0\n",
    "s = 0\n",
    "while(i<=n):\n",
    "    s+=i\n",
    "    i+=1\n",
    "print(\"Sum of first {0} numbers is {1}\".format(n,s))\n",
    "print(\"Average of first {0} numbers is {1}\".format(n,s/n))"
   ]
  },
  {
   "cell_type": "markdown",
   "metadata": {},
   "source": [
    "#### b) Python program to find factorial, and Fibonacci of a number, received by user, with iterative as well as recursive process."
   ]
  },
  {
   "cell_type": "code",
   "execution_count": 2,
   "metadata": {},
   "outputs": [
    {
     "name": "stdout",
     "output_type": "stream",
     "text": [
      "Enter a number n: 5\n",
      "Factorial of 5 is 120\n"
     ]
    }
   ],
   "source": [
    "#Factorial using iterative method\n",
    "\n",
    "n = int(input(\"Enter a number n: \"))\n",
    "def fact(n):\n",
    "    if(n<0):\n",
    "        return(\"Please enter a positive number\")\n",
    "    elif((n==0)|(n==1)):\n",
    "        return(1)\n",
    "    else:\n",
    "        i = 1\n",
    "        f = 1\n",
    "        while(i<=n):\n",
    "            f*=i\n",
    "            i+=1\n",
    "        return(f)\n",
    "print('Factorial of ' + str(n) + ' is ' + str(fact(n)))"
   ]
  },
  {
   "cell_type": "code",
   "execution_count": 3,
   "metadata": {},
   "outputs": [
    {
     "name": "stdout",
     "output_type": "stream",
     "text": [
      "Enter a number n: 5\n",
      "Factorial of 5 is 120\n"
     ]
    }
   ],
   "source": [
    "#Factorial using recursive method\n",
    "\n",
    "n = int(input(\"Enter a number n: \"))\n",
    "def fact(n):\n",
    "    if(n<0):\n",
    "        return(\"Please enter a positive number\")\n",
    "    elif((n==0)|(n==1)):\n",
    "        return(1)\n",
    "    else:\n",
    "        return (n*fact(n-1))\n",
    "print('Factorial of ' + str(n) + ' is ' + str(fact(n)))"
   ]
  },
  {
   "cell_type": "code",
   "execution_count": 4,
   "metadata": {},
   "outputs": [
    {
     "name": "stdout",
     "output_type": "stream",
     "text": [
      "Enter a number n: 5\n",
      "Fibonachi series till the 5th number is\n",
      "0\n",
      "1\n",
      "1\n",
      "2\n",
      "3\n"
     ]
    }
   ],
   "source": [
    "#Fibonachi series using iterative method\n",
    "\n",
    "n = int(input(\"Enter a number n: \"))\n",
    "def fibo(n):\n",
    "    if(n<=0):\n",
    "        return(\"Please enter a positive number\")\n",
    "    elif(n<=2):\n",
    "        if n==2:\n",
    "            print('Fibonachi series till the '+ str(n) + 'nd number is')\n",
    "            print(n-2)\n",
    "        else:\n",
    "            print('Fibonachi series till the '+ str(n) + 'st number is')\n",
    "        print(n-1)\n",
    "        return\n",
    "    else:\n",
    "        print('Fibonachi series till the '+ str(n) + 'th number is')\n",
    "        i = 3\n",
    "        a = 0\n",
    "        b = 1\n",
    "        print(a)\n",
    "        print(b)\n",
    "        while(i<=n):\n",
    "            f = a + b\n",
    "            a,b=b,f\n",
    "            i+=1\n",
    "            print(f)\n",
    "        return\n",
    "fibo(n)"
   ]
  },
  {
   "cell_type": "code",
   "execution_count": 4,
   "metadata": {},
   "outputs": [
    {
     "name": "stdout",
     "output_type": "stream",
     "text": [
      "Enter a number n: 5\n",
      "5th number of the Fibonachi series is 3\n"
     ]
    }
   ],
   "source": [
    "#Fibonachi series using recursive method\n",
    "\n",
    "n = int(input(\"Enter a number n: \"))\n",
    "def fibo(n):\n",
    "    if(n<=0):\n",
    "        return(\"Please enter a positive enter\")\n",
    "    elif(n<3):\n",
    "        return(n-1)\n",
    "    else:\n",
    "        return(fibo(n-1)+fibo(n-2))\n",
    "print(str(n) + 'th number of the Fibonachi series is ' + str(fibo(n)))"
   ]
  }
 ],
 "metadata": {
  "kernelspec": {
   "display_name": "Python 3",
   "language": "python",
   "name": "python3"
  },
  "language_info": {
   "codemirror_mode": {
    "name": "ipython",
    "version": 3
   },
   "file_extension": ".py",
   "mimetype": "text/x-python",
   "name": "python",
   "nbconvert_exporter": "python",
   "pygments_lexer": "ipython3",
   "version": "3.8.3"
  }
 },
 "nbformat": 4,
 "nbformat_minor": 4
}
