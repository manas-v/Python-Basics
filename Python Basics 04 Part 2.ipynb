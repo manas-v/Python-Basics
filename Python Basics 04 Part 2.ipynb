{
 "cells": [
  {
   "cell_type": "markdown",
   "metadata": {},
   "source": [
    "### 4. Write python program"
   ]
  },
  {
   "cell_type": "markdown",
   "metadata": {},
   "source": [
    "#### b) To display calendar of selected month and year by a user"
   ]
  },
  {
   "cell_type": "code",
   "execution_count": 1,
   "metadata": {},
   "outputs": [
    {
     "name": "stdout",
     "output_type": "stream",
     "text": [
      "Enter Year: 2020\n",
      "Enter Month: 11\n",
      "\n",
      "   November 2020\n",
      "Mo Tu We Th Fr Sa Su\n",
      "                   1\n",
      " 2  3  4  5  6  7  8\n",
      " 9 10 11 12 13 14 15\n",
      "16 17 18 19 20 21 22\n",
      "23 24 25 26 27 28 29\n",
      "30\n",
      "\n"
     ]
    }
   ],
   "source": [
    "import calendar\n",
    "\n",
    "yy = int(input(\"Enter Year: \"))\n",
    "mm = int(input(\"Enter Month: \"))\n",
    "\n",
    "print(\"\\n\" + calendar.month(yy,mm))"
   ]
  },
  {
   "cell_type": "markdown",
   "metadata": {},
   "source": [
    "#### c) To solve the quadratic equation ax**2 + bx + c = 0"
   ]
  },
  {
   "cell_type": "code",
   "execution_count": 2,
   "metadata": {},
   "outputs": [
    {
     "name": "stdout",
     "output_type": "stream",
     "text": [
      "Enter value of a: 1\n",
      "Enter value of b: 12\n",
      "Enter value of c: 5\n"
     ]
    }
   ],
   "source": [
    "a = int(input(\"Enter value of a: \"))\n",
    "b = int(input(\"Enter value of b: \"))\n",
    "c = int(input(\"Enter value of c: \"))"
   ]
  },
  {
   "cell_type": "code",
   "execution_count": 3,
   "metadata": {},
   "outputs": [
    {
     "name": "stdout",
     "output_type": "stream",
     "text": [
      " real and different roots \n",
      "-0.4322356371699785\n",
      "-11.567764362830022\n"
     ]
    }
   ],
   "source": [
    "import math\n",
    "\n",
    "d = (b**2) - (4*a*c)\n",
    "root_d = math.sqrt(abs(d))\n",
    "\n",
    "if d > 0:\n",
    "    print(\" real and different roots \")  \n",
    "    print((-b + root_d)/(2 * a))  \n",
    "    print((-b - root_d)/(2 * a))   \n",
    "elif d == 0:  \n",
    "    print(\" real and same roots\")  \n",
    "    print(-b / (2 * a))  \n",
    "else: \n",
    "    print(\"Complex Roots\")  \n",
    "    print(- b / (2 * a), \" + i\", root_d)  \n",
    "    print(- b / (2 * a), \" - i\", root_d)  \n"
   ]
  }
 ],
 "metadata": {
  "kernelspec": {
   "display_name": "Python 3",
   "language": "python",
   "name": "python3"
  },
  "language_info": {
   "codemirror_mode": {
    "name": "ipython",
    "version": 3
   },
   "file_extension": ".py",
   "mimetype": "text/x-python",
   "name": "python",
   "nbconvert_exporter": "python",
   "pygments_lexer": "ipython3",
   "version": "3.8.3"
  }
 },
 "nbformat": 4,
 "nbformat_minor": 2
}
