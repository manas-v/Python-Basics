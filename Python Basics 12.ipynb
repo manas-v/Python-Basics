{
 "cells": [
  {
   "cell_type": "markdown",
   "metadata": {},
   "source": [
    "## 12. Write python programs for following graphical objects"
   ]
  },
  {
   "cell_type": "markdown",
   "metadata": {},
   "source": [
    "#### a)\tDraw the target symbol (a set of concentric squares, alternating red and white) in a graphics window, that is, 200 pixels wide by 200 pixels high. (Hint: Draw the target square first in red, followed by next smaller square in white, then draw the next smaller square in red)."
   ]
  },
  {
   "cell_type": "code",
   "execution_count": 1,
   "metadata": {},
   "outputs": [],
   "source": [
    "import matplotlib.pyplot as plt"
   ]
  },
  {
   "cell_type": "code",
   "execution_count": 2,
   "metadata": {},
   "outputs": [
    {
     "data": {
      "image/png": "[encoded data removed]",
      "text/plain": [
       "<Figure size 432x288 with 1 Axes>"
      ]
     },
     "metadata": {
      "needs_background": "light"
     },
     "output_type": "display_data"
    }
   ],
   "source": [
    "plt.axes\n",
    "rectangle=plt.Rectangle((0,0),200,200,fc='r')\n",
    "plt.gca().add_patch(rectangle)\n",
    "\n",
    "rectangle=plt.Rectangle((50,50),100,100,fc='w')\n",
    "plt.gca().add_patch(rectangle)\n",
    "\n",
    "rectangle=plt.Rectangle((75,75),50,50,fc='r')\n",
    "plt.gca().add_patch(rectangle)\n",
    "\n",
    "plt.axis('scaled')\n",
    "plt.show()"
   ]
  },
  {
   "cell_type": "markdown",
   "metadata": {},
   "source": [
    "#### b) Create a 5x5 rectangle whose top left corner is at (row*5, col*5). If the sum of the rows and columns’ number is even, set the fill color of the rectangle to white, otherwise set it to the black. Then draw the rectangle."
   ]
  },
  {
   "cell_type": "code",
   "execution_count": 3,
   "metadata": {},
   "outputs": [],
   "source": [
    "from matplotlib import pyplot as plt\n",
    "from matplotlib.patches import Rectangle"
   ]
  },
  {
   "cell_type": "code",
   "execution_count": 4,
   "metadata": {},
   "outputs": [
    {
     "data": {
      "image/png": "[encoded data removed]",
      "text/plain": [
       "<Figure size 432x288 with 1 Axes>"
      ]
     },
     "metadata": {
      "needs_background": "light"
     },
     "output_type": "display_data"
    }
   ],
   "source": [
    "plt.figure()\n",
    "plt.axis([0,25,25,0])\n",
    "currentAxis = plt.gca()\n",
    "for i in range(0,5):\n",
    "    for j in range(0,5):\n",
    "        if((i+j)%2 == 0):\n",
    "            currentAxis.add_patch(Rectangle((i*5,j*5),5,5,color='white'))\n",
    "        else:\n",
    "            currentAxis.add_patch(Rectangle((i*5,j*5),5,5,color='black'))\n",
    "plt.show()"
   ]
  },
  {
   "cell_type": "markdown",
   "metadata": {},
   "source": []
  }
 ],
 "metadata": {
  "kernelspec": {
   "display_name": "Python 3",
   "language": "python",
   "name": "python3"
  },
  "language_info": {
   "codemirror_mode": {
    "name": "ipython",
    "version": 3
   },
   "file_extension": ".py",
   "mimetype": "text/x-python",
   "name": "python",
   "nbconvert_exporter": "python",
   "pygments_lexer": "ipython3",
   "version": "3.8.3"
  }
 },
 "nbformat": 4,
 "nbformat_minor": 4
}
